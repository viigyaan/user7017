{
  "nbformat": 4,
  "nbformat_minor": 0,
  "metadata": {
    "colab": {
      "name": "Assignment day3.ipynb",
      "provenance": [],
      "collapsed_sections": [],
      "include_colab_link": true
    },
    "kernelspec": {
      "name": "python3",
      "display_name": "Python 3"
    },
    "language_info": {
      "name": "python"
    }
  },
  "cells": [
    {
      "cell_type": "markdown",
      "metadata": {
        "id": "view-in-github",
        "colab_type": "text"
      },
      "source": [
        "<a href=\"https://colab.research.google.com/github/viigyaan/user7017/blob/main/Assignment_day3.ipynb\" target=\"_parent\"><img src=\"https://colab.research.google.com/assets/colab-badge.svg\" alt=\"Open In Colab\"/></a>"
      ]
    },
    {
      "cell_type": "code",
      "metadata": {
        "colab": {
          "base_uri": "https://localhost:8080/"
        },
        "id": "oX6gEKM9K0f2",
        "outputId": "9c1b5526-073e-4d6e-f3e2-f0f3e1557be8"
      },
      "source": [
        "# Assignment day 3\n",
        " \n",
        "'''\n",
        "Consider a person is represented by Pi, where i is the index of the following list.\n",
        "A list shows the person to whom person Pi has given the gift.\n",
        " \n",
        "Consider the below example:\n",
        "gift_presented_to = [2, 1, 5, 3, 4]\n",
        " \n",
        "This list is giving us the following details:\n",
        "Person P1 has given gift to person P2\n",
        "Person P2 has given gift to person P1\n",
        "Person P3 has given gift to person P5\n",
        "Person P4 has given gift to person P3\n",
        "Person P5 has given gift to person P4\n",
        " \n",
        "So for the given list, the list of persons from whom they have received the gift would be \n",
        "gift_received_from = [2, 1, 4, 5, 3]\n",
        " \n",
        "i.e.\n",
        "Person P1 has received gift from person P2\n",
        "Person P2 has received gift from person P1\n",
        "Person P3 has received gift from person P4\n",
        "Person P4 has received gift from person P5\n",
        "Person P5 has received gift from person P3\n",
        " \n",
        "Your task:\n",
        " \n",
        "Take input for the gift_presented_to[] list and print its respective gift_received_from[] list.\n",
        "'''\n",
        " \n",
        "x = input('gift_presented_to: ')\n",
        "val = [int(i) for i in x.split()]\n",
        "print(val)\n",
        " \n",
        "for i in range(len(val)):\n",
        "  print(i)"
      ],
      "execution_count": null,
      "outputs": [
        {
          "output_type": "stream",
          "text": [
            "gift_presented_to: 2 1 5 3 4\n",
            "[2, 1, 5, 3, 4]\n",
            "0\n",
            "1\n",
            "2\n",
            "3\n",
            "4\n"
          ],
          "name": "stdout"
        }
      ]
    },
    {
      "cell_type": "code",
      "metadata": {
        "id": "sNbbUFVr_tz1"
      },
      "source": [
        ""
      ],
      "execution_count": null,
      "outputs": []
    },
    {
      "cell_type": "code",
      "metadata": {
        "colab": {
          "base_uri": "https://localhost:8080/",
          "height": 299
        },
        "id": "P_6DGhWxCre0",
        "outputId": "8e3897a0-7323-4d5e-d18b-b7ba197a4f97"
      },
      "source": [
        "x = input('gift_presented_to: ')\n",
        "print(x)\n",
        "def Convert(string):\n",
        "    li = list(string.split(\" \"))\n",
        "    return li\n",
        "val = Convert(x)\n",
        "print('this is the val',val,'of type',type(val))\n",
        "index = val.index(val[1])\n",
        "print('this is index of', val[0],'=',index)\n",
        "index = val.index(val[2])\n",
        "print('this is index of ',val[1],'=',index)\n",
        "\n",
        "x1 = \n",
        "for i in x:\n",
        "  print(i)"
      ],
      "execution_count": null,
      "outputs": [
        {
          "output_type": "stream",
          "text": [
            "gift_presented_to: 2, 1, 5, 3, 4\n",
            "2, 1, 5, 3, 4\n",
            "this is the val ['2,', '1,', '5,', '3,', '4'] of type <class 'list'>\n",
            "this is index of 2, = 1\n",
            "this is index of  1, = 2\n"
          ],
          "name": "stdout"
        },
        {
          "output_type": "error",
          "ename": "TypeError",
          "evalue": "ignored",
          "traceback": [
            "\u001b[0;31m---------------------------------------------------------------------------\u001b[0m",
            "\u001b[0;31mTypeError\u001b[0m                                 Traceback (most recent call last)",
            "\u001b[0;32m<ipython-input-62-3c9086b44d5e>\u001b[0m in \u001b[0;36m<module>\u001b[0;34m()\u001b[0m\n\u001b[1;32m     11\u001b[0m \u001b[0mprint\u001b[0m\u001b[0;34m(\u001b[0m\u001b[0;34m'this is index of '\u001b[0m\u001b[0;34m,\u001b[0m\u001b[0mval\u001b[0m\u001b[0;34m[\u001b[0m\u001b[0;36m1\u001b[0m\u001b[0;34m]\u001b[0m\u001b[0;34m,\u001b[0m\u001b[0;34m'='\u001b[0m\u001b[0;34m,\u001b[0m\u001b[0mindex\u001b[0m\u001b[0;34m)\u001b[0m\u001b[0;34m\u001b[0m\u001b[0;34m\u001b[0m\u001b[0m\n\u001b[1;32m     12\u001b[0m \u001b[0;34m\u001b[0m\u001b[0m\n\u001b[0;32m---> 13\u001b[0;31m \u001b[0;32mfor\u001b[0m \u001b[0mi\u001b[0m \u001b[0;32min\u001b[0m \u001b[0mlen\u001b[0m\u001b[0;34m[\u001b[0m\u001b[0mx\u001b[0m\u001b[0;34m]\u001b[0m\u001b[0;34m:\u001b[0m\u001b[0;34m\u001b[0m\u001b[0;34m\u001b[0m\u001b[0m\n\u001b[0m\u001b[1;32m     14\u001b[0m   \u001b[0mprint\u001b[0m\u001b[0;34m(\u001b[0m\u001b[0mi\u001b[0m\u001b[0;34m)\u001b[0m\u001b[0;34m\u001b[0m\u001b[0;34m\u001b[0m\u001b[0m\n",
            "\u001b[0;31mTypeError\u001b[0m: 'builtin_function_or_method' object is not subscriptable"
          ]
        }
      ]
    },
    {
      "cell_type": "markdown",
      "metadata": {
        "id": "IdGHKu2yCq_X"
      },
      "source": [
        ""
      ]
    },
    {
      "cell_type": "code",
      "metadata": {
        "id": "qSNgUaprLN48"
      },
      "source": [
        ""
      ],
      "execution_count": null,
      "outputs": []
    }
  ]
}